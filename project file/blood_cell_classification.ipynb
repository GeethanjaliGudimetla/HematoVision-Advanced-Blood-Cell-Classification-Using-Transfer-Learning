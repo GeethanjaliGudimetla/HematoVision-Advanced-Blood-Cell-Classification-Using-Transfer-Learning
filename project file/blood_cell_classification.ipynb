import os
import pandas as pd
import tensorflow as tf
from tensorflow.keras import layers, models
from tensorflow.keras.applications import MobileNetV2
from tensorflow.keras.preprocessing.image import ImageDataGenerator
from tensorflow.keras.models import load_model
from sklearn.model_selection import train_test_split
from sklearn.metrics import classification_report, confusion_matrix
import numpy as np
import matplotlib.pyplot as plt
import seaborn as sns

data_dir = 'C:/Users/HP/Downloads/archive/dataset2-master/dataset2-master/images/TRAIN'
class_labels = ['eosinophil', 'lymphocyte', 'monocyte', 'neutrophil']

filepaths = []
labels = []
for label in class_labels:
    class_dir = os.path.join(data_dir, label)
    for file in os.listdir(class_dir):
        if file.endswith('.jpeg') or file.endswith('.png') or file.endswith('.jpg'):
            filepaths.append(os.path.join(class_dir, file))
            labels.append(label)

df = pd.DataFrame({'filepaths': filepaths, 'labels': labels})
df = df.sample(frac=1).reset_index(drop=True)

print(f"Total images loaded: {len(df)}")
print(df['labels'].value_counts())

train_images, test_images = train_test_split(df, test_size=0.3, random_state=42)
train_set, val_set = train_test_split(train_images, test_size=0.2, random_state=42)
image_gen = ImageDataGenerator(preprocessing_function=tf.keras.applications.mobilenet_v2.preprocess_input)
train = image_gen.flow_from_dataframe(train_set, x_col='filepaths', y_col='labels',
                                      target_size=(244, 244), class_mode='categorical',
                                      batch_size=8, shuffle=True)
val = image_gen.flow_from_dataframe(val_set, x_col='filepaths', y_col='labels',
                                    target_size=(244, 244), class_mode='categorical',
                                    batch_size=8, shuffle=False)
test = image_gen.flow_from_dataframe(test_images, x_col='filepaths', y_col='labels',
                                     target_size=(244, 244), class_mode='categorical',
                                     batch_size=8, shuffle=False)

base_model = MobileNetV2(input_shape=(244, 244, 3), include_top=False, weights='imagenet')
base_model.trainable = False

x = layers.GlobalAveragePooling2D()(base_model.output)
x = layers.Dense(128, activation='relu')(x)
predictions = layers.Dense(4, activation='softmax')(x)
model = models.Model(inputs=base_model.input, outputs=predictions)
model.compile(optimizer='adam', loss='categorical_crossentropy', metrics=['accuracy'])

history = model.fit(train, validation_data=val, epochs=10)

loss, accuracy = model.evaluate(test)
print(f'Test Accuracy: {accuracy * 100:.2f}%')

model.save('Blood_Cell.h5')

predictions = model.predict(test)
y_pred = np.argmax(predictions, axis=1)
y_true = test.classes
class_labels_list = list(test.class_indices.keys())
print(classification_report(y_true, y_pred, target_names=class_labels_list))
cm = confusion_matrix(y_true, y_pred)
sns.heatmap(cm, annot=True, fmt='d', xticklabels=class_labels_list, yticklabels=class_labels_list)
plt.xlabel('Predicted')
plt.ylabel('True')
plt.title('Confusion Matrix')
plt.show()
