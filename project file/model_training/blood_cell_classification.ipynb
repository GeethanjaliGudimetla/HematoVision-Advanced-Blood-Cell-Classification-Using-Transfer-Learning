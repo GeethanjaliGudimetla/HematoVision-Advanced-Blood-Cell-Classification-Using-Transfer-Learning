{
 "cells": [
  {
   "cell_type": "code",
   "execution_count": 1,
   "id": "08792108-b03b-4ecd-94b9-5d5ebeb24a21",
   "metadata": {},
   "outputs": [],
   "source": [
    "import os\n",
    "import pandas as pd\n",
    "import tensorflow as tf\n",
    "from tensorflow.keras import layers, models\n",
    "from tensorflow.keras.applications import MobileNetV2\n",
    "from tensorflow.keras.preprocessing.image import ImageDataGenerator\n",
    "from tensorflow.keras.models import load_model\n",
    "from sklearn.model_selection import train_test_split\n",
    "from sklearn.metrics import classification_report, confusion_matrix\n",
    "import numpy as np\n",
    "import matplotlib.pyplot as plt\n",
    "import seaborn as sns\n",
    "\n"
   ]
  },
  {
   "cell_type": "code",
   "execution_count": 2,
   "id": "05c7b687-1932-48de-8358-fd632859f361",
   "metadata": {},
   "outputs": [],
   "source": [
    "data_dir = 'C:/Users/HP/Downloads/archive/dataset2-master/dataset2-master/images/TRAIN'\n",
    "class_labels = ['eosinophil', 'lymphocyte', 'monocyte', 'neutrophil']"
   ]
  },
  {
   "cell_type": "code",
   "execution_count": 3,
   "id": "f114ba10-58b2-4c35-b572-90c6e82c4823",
   "metadata": {},
   "outputs": [],
   "source": [
    "filepaths = []\n",
    "labels = []\n",
    "for label in class_labels:\n",
    "    class_dir = os.path.join(data_dir, label)\n",
    "    for file in os.listdir(class_dir):\n",
    "        if file.endswith('.jpeg') or file.endswith('.png') or file.endswith('.jpg'):\n",
    "            filepaths.append(os.path.join(class_dir, file))\n",
    "            labels.append(label)\n"
   ]
  },
  {
   "cell_type": "code",
   "execution_count": 4,
   "id": "aef3fa85-f989-4cef-ae2d-0190ba2d8f63",
   "metadata": {},
   "outputs": [],
   "source": [
    "df = pd.DataFrame({'filepaths': filepaths, 'labels': labels})\n",
    "df = df.sample(frac=1).reset_index(drop=True)"
   ]
  },
  {
   "cell_type": "code",
   "execution_count": 5,
   "id": "77d077cd-b3f5-49d7-8521-d90b5281882c",
   "metadata": {},
   "outputs": [
    {
     "name": "stdout",
     "output_type": "stream",
     "text": [
      "Total images loaded: 9957\n",
      "labels\n",
      "neutrophil    2499\n",
      "eosinophil    2497\n",
      "lymphocyte    2483\n",
      "monocyte      2478\n",
      "Name: count, dtype: int64\n"
     ]
    }
   ],
   "source": [
    "print(f\"Total images loaded: {len(df)}\")\n",
    "print(df['labels'].value_counts())"
   ]
  },
  {
   "cell_type": "code",
   "execution_count": 6,
   "id": "10632fd9-6cd9-4f49-957e-ffa11564ddb8",
   "metadata": {},
   "outputs": [],
   "source": [
    "train_images, test_images = train_test_split(df, test_size=0.3, random_state=42)\n",
    "train_set, val_set = train_test_split(train_images, test_size=0.2, random_state=42)\n"
   ]
  },
  {
   "cell_type": "code",
   "execution_count": 7,
   "id": "4e0d9e78-c200-40c7-ad9d-07c2cc91fbbf",
   "metadata": {},
   "outputs": [
    {
     "name": "stdout",
     "output_type": "stream",
     "text": [
      "Found 5575 validated image filenames belonging to 4 classes.\n",
      "Found 1394 validated image filenames belonging to 4 classes.\n",
      "Found 2988 validated image filenames belonging to 4 classes.\n"
     ]
    }
   ],
   "source": [
    "image_gen = ImageDataGenerator(preprocessing_function=tf.keras.applications.mobilenet_v2.preprocess_input)\n",
    "train = image_gen.flow_from_dataframe(train_set, x_col='filepaths', y_col='labels',\n",
    "                                      target_size=(244, 244), class_mode='categorical',\n",
    "                                      batch_size=8, shuffle=True)\n",
    "val = image_gen.flow_from_dataframe(val_set, x_col='filepaths', y_col='labels',\n",
    "                                    target_size=(244, 244), class_mode='categorical',\n",
    "                                    batch_size=8, shuffle=False)\n",
    "test = image_gen.flow_from_dataframe(test_images, x_col='filepaths', y_col='labels',\n",
    "                                     target_size=(244, 244), class_mode='categorical',\n",
    "                                     batch_size=8, shuffle=False)"
   ]
  },
  {
   "cell_type": "code",
   "execution_count": 8,
   "id": "d35cf298-35c3-449f-a06c-583ff93a7301",
   "metadata": {},
   "outputs": [
    {
     "name": "stderr",
     "output_type": "stream",
     "text": [
      "C:\\Users\\HP\\AppData\\Local\\Temp\\ipykernel_13252\\1471734011.py:1: UserWarning: `input_shape` is undefined or non-square, or `rows` is not in [96, 128, 160, 192, 224]. Weights for input shape (224, 224) will be loaded as the default.\n",
      "  base_model = MobileNetV2(input_shape=(244, 244, 3), include_top=False, weights='imagenet')\n"
     ]
    }
   ],
   "source": [
    "base_model = MobileNetV2(input_shape=(244, 244, 3), include_top=False, weights='imagenet')\n",
    "base_model.trainable = False\n",
    "\n",
    "x = layers.GlobalAveragePooling2D()(base_model.output)\n",
    "x = layers.Dense(128, activation='relu')(x)\n",
    "predictions = layers.Dense(4, activation='softmax')(x)\n",
    "model = models.Model(inputs=base_model.input, outputs=predictions)\n",
    "\n",
    "model.compile(optimizer='adam', loss='categorical_crossentropy', metrics=['accuracy'])\n",
    "\n"
   ]
  },
  {
   "cell_type": "code",
   "execution_count": 9,
   "id": "ef1b3a5d-57e1-4c23-9cfd-3287d9dce302",
   "metadata": {},
   "outputs": [
    {
     "name": "stderr",
     "output_type": "stream",
     "text": [
      "C:\\Users\\HP\\AppData\\Roaming\\Python\\Python312\\site-packages\\keras\\src\\trainers\\data_adapters\\py_dataset_adapter.py:121: UserWarning: Your `PyDataset` class should call `super().__init__(**kwargs)` in its constructor. `**kwargs` can include `workers`, `use_multiprocessing`, `max_queue_size`. Do not pass these arguments to `fit()`, as they will be ignored.\n",
      "  self._warn_if_super_not_called()\n"
     ]
    },
    {
     "name": "stdout",
     "output_type": "stream",
     "text": [
      "Epoch 1/10\n",
      "\u001b[1m697/697\u001b[0m \u001b[32m━━━━━━━━━━━━━━━━━━━━\u001b[0m\u001b[37m\u001b[0m \u001b[1m233s\u001b[0m 318ms/step - accuracy: 0.5572 - loss: 1.0660 - val_accuracy: 0.7468 - val_loss: 0.6318\n",
      "Epoch 2/10\n",
      "\u001b[1m697/697\u001b[0m \u001b[32m━━━━━━━━━━━━━━━━━━━━\u001b[0m\u001b[37m\u001b[0m \u001b[1m205s\u001b[0m 294ms/step - accuracy: 0.7849 - loss: 0.5497 - val_accuracy: 0.7862 - val_loss: 0.5347\n",
      "Epoch 3/10\n",
      "\u001b[1m697/697\u001b[0m \u001b[32m━━━━━━━━━━━━━━━━━━━━\u001b[0m\u001b[37m\u001b[0m \u001b[1m210s\u001b[0m 302ms/step - accuracy: 0.8357 - loss: 0.4114 - val_accuracy: 0.8321 - val_loss: 0.4227\n",
      "Epoch 4/10\n",
      "\u001b[1m697/697\u001b[0m \u001b[32m━━━━━━━━━━━━━━━━━━━━\u001b[0m\u001b[37m\u001b[0m \u001b[1m208s\u001b[0m 298ms/step - accuracy: 0.8786 - loss: 0.3033 - val_accuracy: 0.8042 - val_loss: 0.4686\n",
      "Epoch 5/10\n",
      "\u001b[1m697/697\u001b[0m \u001b[32m━━━━━━━━━━━━━━━━━━━━\u001b[0m\u001b[37m\u001b[0m \u001b[1m204s\u001b[0m 293ms/step - accuracy: 0.9059 - loss: 0.2527 - val_accuracy: 0.8831 - val_loss: 0.3113\n",
      "Epoch 6/10\n",
      "\u001b[1m697/697\u001b[0m \u001b[32m━━━━━━━━━━━━━━━━━━━━\u001b[0m\u001b[37m\u001b[0m \u001b[1m204s\u001b[0m 292ms/step - accuracy: 0.9172 - loss: 0.2129 - val_accuracy: 0.8902 - val_loss: 0.2810\n",
      "Epoch 7/10\n",
      "\u001b[1m697/697\u001b[0m \u001b[32m━━━━━━━━━━━━━━━━━━━━\u001b[0m\u001b[37m\u001b[0m \u001b[1m203s\u001b[0m 292ms/step - accuracy: 0.9427 - loss: 0.1568 - val_accuracy: 0.8113 - val_loss: 0.4956\n",
      "Epoch 8/10\n",
      "\u001b[1m697/697\u001b[0m \u001b[32m━━━━━━━━━━━━━━━━━━━━\u001b[0m\u001b[37m\u001b[0m \u001b[1m203s\u001b[0m 291ms/step - accuracy: 0.9358 - loss: 0.1798 - val_accuracy: 0.8824 - val_loss: 0.2872\n",
      "Epoch 9/10\n",
      "\u001b[1m697/697\u001b[0m \u001b[32m━━━━━━━━━━━━━━━━━━━━\u001b[0m\u001b[37m\u001b[0m \u001b[1m198s\u001b[0m 284ms/step - accuracy: 0.9481 - loss: 0.1406 - val_accuracy: 0.8687 - val_loss: 0.3390\n",
      "Epoch 10/10\n",
      "\u001b[1m697/697\u001b[0m \u001b[32m━━━━━━━━━━━━━━━━━━━━\u001b[0m\u001b[37m\u001b[0m \u001b[1m211s\u001b[0m 303ms/step - accuracy: 0.9710 - loss: 0.0850 - val_accuracy: 0.8895 - val_loss: 0.3011\n"
     ]
    }
   ],
   "source": [
    "history = model.fit(train, validation_data=val, epochs=10)\n",
    "\n"
   ]
  },
  {
   "cell_type": "code",
   "execution_count": 10,
   "id": "9f901095-5a11-4948-b792-80229e317d29",
   "metadata": {},
   "outputs": [
    {
     "name": "stdout",
     "output_type": "stream",
     "text": [
      "\u001b[1m374/374\u001b[0m \u001b[32m━━━━━━━━━━━━━━━━━━━━\u001b[0m\u001b[37m\u001b[0m \u001b[1m95s\u001b[0m 254ms/step - accuracy: 0.8928 - loss: 0.3006\n",
      "Test Accuracy: 88.45%\n"
     ]
    }
   ],
   "source": [
    "loss, accuracy = model.evaluate(test)\n",
    "print(f'Test Accuracy: {accuracy * 100:.2f}%')\n",
    "\n"
   ]
  },
  {
   "cell_type": "code",
   "execution_count": 11,
   "id": "14baad8b-4de5-4a7b-9d6b-d1131fc8e959",
   "metadata": {},
   "outputs": [
    {
     "name": "stderr",
     "output_type": "stream",
     "text": [
      "WARNING:absl:You are saving your model as an HDF5 file via `model.save()` or `keras.saving.save_model(model)`. This file format is considered legacy. We recommend using instead the native Keras format, e.g. `model.save('my_model.keras')` or `keras.saving.save_model(model, 'my_model.keras')`. \n"
     ]
    }
   ],
   "source": [
    "model.save('Blood_Cell.h5')\n"
   ]
  },
  {
   "cell_type": "code",
   "execution_count": 12,
   "id": "3b11b9a2-36f2-4d3b-98a1-ac7c5d6bc849",
   "metadata": {},
   "outputs": [
    {
     "name": "stdout",
     "output_type": "stream",
     "text": [
      "\u001b[1m374/374\u001b[0m \u001b[32m━━━━━━━━━━━━━━━━━━━━\u001b[0m\u001b[37m\u001b[0m \u001b[1m92s\u001b[0m 239ms/step\n",
      "              precision    recall  f1-score   support\n",
      "\n",
      "  eosinophil       0.75      0.94      0.83       679\n",
      "  lymphocyte       0.92      0.98      0.95       777\n",
      "    monocyte       0.95      0.97      0.96       759\n",
      "  neutrophil       0.96      0.66      0.78       773\n",
      "\n",
      "    accuracy                           0.88      2988\n",
      "   macro avg       0.89      0.89      0.88      2988\n",
      "weighted avg       0.90      0.88      0.88      2988\n",
      "\n"
     ]
    },
    {
     "data": {
      "image/png": "[encoded data removed]",
      "text/plain": [
       "<Figure size 640x480 with 2 Axes>"
      ]
     },
     "metadata": {},
     "output_type": "display_data"
    }
   ],
   "source": [
    "predictions = model.predict(test)\n",
    "y_pred = np.argmax(predictions, axis=1)\n",
    "y_true = test.classes\n",
    "class_labels_list = list(test.class_indices.keys())\n",
    "\n",
    "print(classification_report(y_true, y_pred, target_names=class_labels_list))\n",
    "cm = confusion_matrix(y_true, y_pred)\n",
    "sns.heatmap(cm, annot=True, fmt='d', xticklabels=class_labels_list, yticklabels=class_labels_list)\n",
    "plt.xlabel('Predicted')\n",
    "plt.ylabel('True')\n",
    "plt.title('Confusion Matrix')\n",
    "plt.show()\n"
   ]
  },
  {
   "cell_type": "code",
   "execution_count": null,
   "id": "c12726e8-39ca-4648-a663-b79249771a2b",
   "metadata": {},
   "outputs": [],
   "source": []
  }
 ],
 "metadata": {
  "kernelspec": {
   "display_name": "Python 3 (ipykernel)",
   "language": "python",
   "name": "python3"
  },
  "language_info": {
   "codemirror_mode": {
    "name": "ipython",
    "version": 3
   },
   "file_extension": ".py",
   "mimetype": "text/x-python",
   "name": "python",
   "nbconvert_exporter": "python",
   "pygments_lexer": "ipython3",
   "version": "3.12.7"
  }
 },
 "nbformat": 4,
 "nbformat_minor": 5
}
